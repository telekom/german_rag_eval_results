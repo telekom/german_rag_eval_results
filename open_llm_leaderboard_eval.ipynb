{
 "cells": [
  {
   "cell_type": "code",
   "execution_count": 1,
   "metadata": {},
   "outputs": [],
   "source": [
    "import glob\n",
    "import pandas as pd\n",
    "import json"
   ]
  },
  {
   "cell_type": "code",
   "execution_count": 2,
   "metadata": {},
   "outputs": [],
   "source": [
    "eval_result_files = glob.glob(\"./open_llm_leaderboard/**/*.json\", recursive=True)"
   ]
  },
  {
   "cell_type": "code",
   "execution_count": 3,
   "metadata": {},
   "outputs": [],
   "source": [
    "def read_eval_result(filename: str):\n",
    "    with open(filename, \"r\") as f:\n",
    "        data = json.load(f)\n",
    "    result = {}\n",
    "    model_name = data[\"config_general\"][\"model_name\"]\n",
    "    result[\"model_name\"] = model_name\n",
    "    eval_results = data[\"results\"]\n",
    "\n",
    "    for task_name, task_results in eval_results.items():\n",
    "        task_name = task_name.replace(\"leaderboard|\", \"\")\n",
    "        if \"|\" in task_name:\n",
    "            task_name = task_name.split(\"|\")[-2]\n",
    "        if \"mmlu\" in task_name and \"average\" not in task_name:\n",
    "            continue\n",
    "        if \":\" in task_name:\n",
    "            task_name = task_name.split(\":\")[-2]\n",
    "        for k, v in task_results.items():\n",
    "            result[f\"{task_name}_{k}\"] = v\n",
    "    return result\n"
   ]
  },
  {
   "cell_type": "code",
   "execution_count": 4,
   "metadata": {},
   "outputs": [],
   "source": [
    "eval_results = []\n",
    "\n",
    "for eval_result_file in eval_result_files:\n",
    "    eval_results.append(read_eval_result(eval_result_file))\n"
   ]
  },
  {
   "cell_type": "code",
   "execution_count": 5,
   "metadata": {},
   "outputs": [
    {
     "data": {
      "text/html": [
       "<div>\n",
       "<style scoped>\n",
       "    .dataframe tbody tr th:only-of-type {\n",
       "        vertical-align: middle;\n",
       "    }\n",
       "\n",
       "    .dataframe tbody tr th {\n",
       "        vertical-align: top;\n",
       "    }\n",
       "\n",
       "    .dataframe thead th {\n",
       "        text-align: right;\n",
       "    }\n",
       "</style>\n",
       "<table border=\"1\" class=\"dataframe\">\n",
       "  <thead>\n",
       "    <tr style=\"text-align: right;\">\n",
       "      <th></th>\n",
       "      <th>model_name</th>\n",
       "      <th>arc_acc</th>\n",
       "      <th>arc_acc_stderr</th>\n",
       "      <th>arc_acc_norm</th>\n",
       "      <th>arc_acc_norm_stderr</th>\n",
       "      <th>hellaswag_acc</th>\n",
       "      <th>hellaswag_acc_stderr</th>\n",
       "      <th>hellaswag_acc_norm</th>\n",
       "      <th>hellaswag_acc_norm_stderr</th>\n",
       "      <th>truthfulqa_truthfulqa_mc1</th>\n",
       "      <th>...</th>\n",
       "      <th>all_acc</th>\n",
       "      <th>all_acc_stderr</th>\n",
       "      <th>all_acc_norm</th>\n",
       "      <th>all_acc_norm_stderr</th>\n",
       "      <th>all_truthfulqa_mc1</th>\n",
       "      <th>all_truthfulqa_mc1_stderr</th>\n",
       "      <th>all_truthfulqa_mc2</th>\n",
       "      <th>all_truthfulqa_mc2_stderr</th>\n",
       "      <th>all_qem</th>\n",
       "      <th>all_qem_stderr</th>\n",
       "    </tr>\n",
       "  </thead>\n",
       "  <tbody>\n",
       "    <tr>\n",
       "      <th>0</th>\n",
       "      <td>microsoft/Phi-3-mini-4k-instruct</td>\n",
       "      <td>0.620307</td>\n",
       "      <td>0.014182</td>\n",
       "      <td>0.656997</td>\n",
       "      <td>0.013872</td>\n",
       "      <td>0.610635</td>\n",
       "      <td>0.004866</td>\n",
       "      <td>0.787791</td>\n",
       "      <td>0.004080</td>\n",
       "      <td>0.440636</td>\n",
       "      <td>...</td>\n",
       "      <td>0.684880</td>\n",
       "      <td>0.031563</td>\n",
       "      <td>0.722394</td>\n",
       "      <td>0.008976</td>\n",
       "      <td>0.440636</td>\n",
       "      <td>0.017380</td>\n",
       "      <td>0.626144</td>\n",
       "      <td>0.015784</td>\n",
       "      <td>0.636088</td>\n",
       "      <td>0.013253</td>\n",
       "    </tr>\n",
       "    <tr>\n",
       "      <th>1</th>\n",
       "      <td>vonjack/Phi-3-mini-4k-instruct-LLaMAfied</td>\n",
       "      <td>0.616894</td>\n",
       "      <td>0.014206</td>\n",
       "      <td>0.645904</td>\n",
       "      <td>0.013975</td>\n",
       "      <td>0.609241</td>\n",
       "      <td>0.004869</td>\n",
       "      <td>0.789385</td>\n",
       "      <td>0.004069</td>\n",
       "      <td>0.462668</td>\n",
       "      <td>...</td>\n",
       "      <td>0.668972</td>\n",
       "      <td>0.031766</td>\n",
       "      <td>0.717645</td>\n",
       "      <td>0.009022</td>\n",
       "      <td>0.462668</td>\n",
       "      <td>0.017455</td>\n",
       "      <td>0.632620</td>\n",
       "      <td>0.015854</td>\n",
       "      <td>0.635330</td>\n",
       "      <td>0.013258</td>\n",
       "    </tr>\n",
       "  </tbody>\n",
       "</table>\n",
       "<p>2 rows × 29 columns</p>\n",
       "</div>"
      ],
      "text/plain": [
       "                                 model_name   arc_acc  arc_acc_stderr  \\\n",
       "0          microsoft/Phi-3-mini-4k-instruct  0.620307        0.014182   \n",
       "1  vonjack/Phi-3-mini-4k-instruct-LLaMAfied  0.616894        0.014206   \n",
       "\n",
       "   arc_acc_norm  arc_acc_norm_stderr  hellaswag_acc  hellaswag_acc_stderr  \\\n",
       "0      0.656997             0.013872       0.610635              0.004866   \n",
       "1      0.645904             0.013975       0.609241              0.004869   \n",
       "\n",
       "   hellaswag_acc_norm  hellaswag_acc_norm_stderr  truthfulqa_truthfulqa_mc1  \\\n",
       "0            0.787791                   0.004080                   0.440636   \n",
       "1            0.789385                   0.004069                   0.462668   \n",
       "\n",
       "   ...   all_acc  all_acc_stderr  all_acc_norm  all_acc_norm_stderr  \\\n",
       "0  ...  0.684880        0.031563      0.722394             0.008976   \n",
       "1  ...  0.668972        0.031766      0.717645             0.009022   \n",
       "\n",
       "   all_truthfulqa_mc1  all_truthfulqa_mc1_stderr  all_truthfulqa_mc2  \\\n",
       "0            0.440636                   0.017380            0.626144   \n",
       "1            0.462668                   0.017455            0.632620   \n",
       "\n",
       "   all_truthfulqa_mc2_stderr   all_qem  all_qem_stderr  \n",
       "0                   0.015784  0.636088        0.013253  \n",
       "1                   0.015854  0.635330        0.013258  \n",
       "\n",
       "[2 rows x 29 columns]"
      ]
     },
     "execution_count": 5,
     "metadata": {},
     "output_type": "execute_result"
    }
   ],
   "source": [
    "df = pd.DataFrame(eval_results)\n",
    "df.sort_values(\"all_acc\", ascending=False, inplace=True)\n",
    "df"
   ]
  },
  {
   "cell_type": "code",
   "execution_count": 6,
   "metadata": {},
   "outputs": [
    {
     "name": "stdout",
     "output_type": "stream",
     "text": [
      "\\begin{tabular}{lrrrrrrrrrrrrrrrrrrrrrrrrrrrr}\n",
      "\\toprule\n",
      "model_name & arc_acc & arc_acc_stderr & arc_acc_norm & arc_acc_norm_stderr & hellaswag_acc & hellaswag_acc_stderr & hellaswag_acc_norm & hellaswag_acc_norm_stderr & truthfulqa_truthfulqa_mc1 & truthfulqa_truthfulqa_mc1_stderr & truthfulqa_truthfulqa_mc2 & truthfulqa_truthfulqa_mc2_stderr & winogrande_acc & winogrande_acc_stderr & gsm8k_qem & gsm8k_qem_stderr & mmlu_acc & mmlu_acc_stderr & all_acc & all_acc_stderr & all_acc_norm & all_acc_norm_stderr & all_truthfulqa_mc1 & all_truthfulqa_mc1_stderr & all_truthfulqa_mc2 & all_truthfulqa_mc2_stderr & all_qem & all_qem_stderr \\\\\n",
      "\\midrule\n",
      "microsoft/Phi-3-mini-4k-instruct & 0.620307 & 0.014182 & 0.656997 & 0.013872 & 0.610635 & 0.004866 & 0.787791 & 0.004080 & 0.440636 & 0.017380 & 0.626144 & 0.015784 & 0.716654 & 0.012665 & 0.636088 & 0.013253 & 0.686758 & 0.032667 & 0.684880 & 0.031563 & 0.722394 & 0.008976 & 0.440636 & 0.017380 & 0.626144 & 0.015784 & 0.636088 & 0.013253 \\\\\n",
      "vonjack/Phi-3-mini-4k-instruct-LLaMAfied & 0.616894 & 0.014206 & 0.645904 & 0.013975 & 0.609241 & 0.004869 & 0.789385 & 0.004069 & 0.462668 & 0.017455 & 0.632620 & 0.015854 & 0.724546 & 0.012556 & 0.635330 & 0.013258 & 0.669958 & 0.032883 & 0.668972 & 0.031766 & 0.717645 & 0.009022 & 0.462668 & 0.017455 & 0.632620 & 0.015854 & 0.635330 & 0.013258 \\\\\n",
      "\\bottomrule\n",
      "\\end{tabular}\n",
      "\n"
     ]
    }
   ],
   "source": [
    "print(df.to_latex(index=False))"
   ]
  },
  {
   "cell_type": "code",
   "execution_count": 7,
   "metadata": {},
   "outputs": [],
   "source": [
    "df.columns = [c.replace(\"_\", \" \") for c in df.columns]"
   ]
  },
  {
   "cell_type": "code",
   "execution_count": 8,
   "metadata": {},
   "outputs": [
    {
     "name": "stdout",
     "output_type": "stream",
     "text": [
      "| model name                               |   arc acc |   arc acc stderr |   arc acc norm |   arc acc norm stderr |   hellaswag acc |   hellaswag acc stderr |   hellaswag acc norm |   hellaswag acc norm stderr |   truthfulqa truthfulqa mc1 |   truthfulqa truthfulqa mc1 stderr |   truthfulqa truthfulqa mc2 |   truthfulqa truthfulqa mc2 stderr |   winogrande acc |   winogrande acc stderr |   gsm8k qem |   gsm8k qem stderr |   mmlu acc |   mmlu acc stderr |   all acc |   all acc stderr |   all acc norm |   all acc norm stderr |   all truthfulqa mc1 |   all truthfulqa mc1 stderr |   all truthfulqa mc2 |   all truthfulqa mc2 stderr |   all qem |   all qem stderr |\n",
      "|:-----------------------------------------|----------:|-----------------:|---------------:|----------------------:|----------------:|-----------------------:|---------------------:|----------------------------:|----------------------------:|-----------------------------------:|----------------------------:|-----------------------------------:|-----------------:|------------------------:|------------:|-------------------:|-----------:|------------------:|----------:|-----------------:|---------------:|----------------------:|---------------------:|----------------------------:|---------------------:|----------------------------:|----------:|-----------------:|\n",
      "| microsoft/Phi-3-mini-4k-instruct         |  0.620307 |        0.0141821 |       0.656997 |             0.0138724 |        0.610635 |             0.0048661  |             0.787791 |                  0.00408036 |                    0.440636 |                          0.0173797 |                    0.626144 |                          0.015784  |         0.716654 |               0.0126648 |    0.636088 |          0.0132525 |   0.686758 |         0.0326675 |  0.68488  |        0.0315626 |       0.722394 |            0.00897639 |             0.440636 |                   0.0173797 |             0.626144 |                   0.015784  |  0.636088 |        0.0132525 |\n",
      "| vonjack/Phi-3-mini-4k-instruct-LLaMAfied |  0.616894 |        0.0142065 |       0.645904 |             0.0139755 |        0.609241 |             0.00486923 |             0.789385 |                  0.00406912 |                    0.462668 |                          0.0174546 |                    0.63262  |                          0.0158538 |         0.724546 |               0.0125557 |    0.63533  |          0.0132584 |   0.669958 |         0.0328833 |  0.668972 |        0.0317663 |       0.717645 |            0.00902229 |             0.462668 |                   0.0174546 |             0.63262  |                   0.0158538 |  0.63533  |        0.0132584 |\n"
     ]
    }
   ],
   "source": [
    "print(df.to_markdown(index=False))"
   ]
  },
  {
   "cell_type": "code",
   "execution_count": null,
   "metadata": {},
   "outputs": [],
   "source": []
  }
 ],
 "metadata": {
  "kernelspec": {
   "display_name": ".venv",
   "language": "python",
   "name": "python3"
  },
  "language_info": {
   "codemirror_mode": {
    "name": "ipython",
    "version": 3
   },
   "file_extension": ".py",
   "mimetype": "text/x-python",
   "name": "python",
   "nbconvert_exporter": "python",
   "pygments_lexer": "ipython3",
   "version": "3.10.12"
  }
 },
 "nbformat": 4,
 "nbformat_minor": 2
}
